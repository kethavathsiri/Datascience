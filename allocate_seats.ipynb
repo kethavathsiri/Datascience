{
 "cells": [
  {
   "cell_type": "code",
   "execution_count": null,
   "id": "e33cdc7f-0d4e-480f-bc66-5910c3a2b768",
   "metadata": {},
   "outputs": [],
   "source": [
    "import pandas as pd\n",
    "\n",
    "# Load CSVs with proper dtypes\n",
    "students = pd.read_csv('students.csv', dtype={'UniqueID': str})\n",
    "preferences = pd.read_csv('preference.csv', dtype={'UniqueID': str, 'CollegeID': str, 'PrefNumber': int})\n",
    "seats = pd.read_csv('seat.csv', dtype={'CollegeID': str})\n",
    "\n",
    "def seat_column(caste):\n",
    "    if caste == 'SC':\n",
    "        return 'SC'\n",
    "    elif caste == 'ST':\n",
    "        return 'ST'\n",
    "    elif caste == 'BC':\n",
    "        return 'BC'\n",
    "    elif caste == 'Minority':\n",
    "        return 'Minority'\n",
    "    elif caste == 'OC':\n",
    "        return 'OC'\n",
    "    elif caste == 'SC-CC':\n",
    "        return 'SC-CC'\n",
    "    else:\n",
    "        return None\n",
    "\n",
    "output = []\n",
    "\n",
    "# ✅ Ask user how many students to process\n",
    "n = int(input(\"Enter number of students to process: \"))\n",
    "\n",
    "# Take first n students\n",
    "for idx, srow in students.head(n).iterrows():\n",
    "    uid = str(srow['UniqueID']).strip()\n",
    "    gender = srow['Gender']\n",
    "    caste = srow['Caste']\n",
    "    \n",
    "    # Get all preferences for this student sorted by PrefNumber\n",
    "    pset = preferences[preferences['UniqueID'] == uid].sort_values(by='PrefNumber')\n",
    "    if pset.empty:\n",
    "        continue\n",
    "    \n",
    "    scol = seat_column(caste)\n",
    "    allocated_college = None\n",
    "    allocated_pref = None\n",
    "    \n",
    "    # Iterate through preferences until seat is found\n",
    "    for _, pref in pset.iterrows():\n",
    "        collegeid = str(pref['CollegeID']).strip()\n",
    "        prefnumber = int(pref['PrefNumber'])\n",
    "        \n",
    "        seat_row = seats[seats['CollegeID'] == collegeid]\n",
    "        if not seat_row.empty and scol and scol in seat_row.columns:\n",
    "            try:\n",
    "                seats_available = int(seat_row.iloc[0][scol])\n",
    "            except:\n",
    "                seats_available = 0\n",
    "            \n",
    "            if seats_available > 0:\n",
    "                # Allocate seat\n",
    "                seats.loc[seat_row.index, scol] = seats_available - 1\n",
    "                seats.loc[seat_row.index, \"TOTAL No. of students admitted\"] = int(seat_row.iloc[0][\"TOTAL No. of students admitted\"]) + 1\n",
    "                allocated_college = collegeid\n",
    "                allocated_pref = prefnumber\n",
    "                break  # stop after successful allocation\n",
    "    \n",
    "    # Record result (only required columns)\n",
    "    output.append({\n",
    "        'UniqueID': uid,\n",
    "        'CollegeID': allocated_college,\n",
    "        'PrefNumber': allocated_pref,\n",
    "        'Gender': gender,\n",
    "        'Caste': caste\n",
    "    })\n",
    "\n",
    "# Save to CSV (IDs kept as text, no scientific notation)\n",
    "out_df = pd.DataFrame(output)\n",
    "out_df['UniqueID'] = out_df['UniqueID'].astype(str)\n",
    "out_df['CollegeID'] = out_df['CollegeID'].astype(str)\n",
    "\n",
    "out_df.to_csv(\"student_allocations.csv\", index=False,\n",
    "              columns=['UniqueID','CollegeID','PrefNumber','Gender','Caste'])\n"
   ]
  },
  {
   "cell_type": "code",
   "execution_count": null,
   "id": "03e37dd5-6f5d-4ffa-b04c-71b8f2d16b8d",
   "metadata": {},
   "outputs": [],
   "source": [
    " "
   ]
  },
  {
   "cell_type": "code",
   "execution_count": null,
   "id": "33b12a0f-6b06-4079-b55b-d4f0db623b89",
   "metadata": {},
   "outputs": [],
   "source": [
    " "
   ]
  },
  {
   "cell_type": "code",
   "execution_count": 31,
   "id": "f407c43c-ce62-4f4a-b3d2-5215c7d9ae8e",
   "metadata": {
    "scrolled": true
   },
   "outputs": [],
   "source": [
    " "
   ]
  },
  {
   "cell_type": "code",
   "execution_count": null,
   "id": "589e8487-2c27-4df0-81bf-43499b45d1a1",
   "metadata": {},
   "outputs": [],
   "source": [
    " "
   ]
  },
  {
   "cell_type": "code",
   "execution_count": null,
   "id": "3666e11b-e052-4f2b-a8a4-5b79358a42cb",
   "metadata": {},
   "outputs": [],
   "source": [
    " "
   ]
  },
  {
   "cell_type": "code",
   "execution_count": null,
   "id": "aa27d61f-333e-43ea-b747-6ec789b936d8",
   "metadata": {},
   "outputs": [],
   "source": []
  },
  {
   "cell_type": "code",
   "execution_count": null,
   "id": "12261ea6-fa8e-4e21-96d4-6c598910c8d7",
   "metadata": {},
   "outputs": [],
   "source": []
  },
  {
   "cell_type": "code",
   "execution_count": null,
   "id": "c415514c-deb6-4b3f-a9ea-d9931eaf6367",
   "metadata": {},
   "outputs": [],
   "source": []
  },
  {
   "cell_type": "code",
   "execution_count": null,
   "id": "ca09a63f-5582-4b79-9081-157f345f796b",
   "metadata": {},
   "outputs": [],
   "source": []
  },
  {
   "cell_type": "code",
   "execution_count": null,
   "id": "7948c631-83fd-4b6d-b137-8dcbe60eba5a",
   "metadata": {},
   "outputs": [],
   "source": []
  },
  {
   "cell_type": "code",
   "execution_count": null,
   "id": "8d4ce837-ce16-4779-8539-f515dcad801f",
   "metadata": {},
   "outputs": [],
   "source": []
  }
 ],
 "metadata": {
  "kernelspec": {
   "display_name": "Python (base)",
   "language": "python",
   "name": "base"
  },
  "language_info": {
   "codemirror_mode": {
    "name": "ipython",
    "version": 3
   },
   "file_extension": ".py",
   "mimetype": "text/x-python",
   "name": "python",
   "nbconvert_exporter": "python",
   "pygments_lexer": "ipython3",
   "version": "3.12.9"
  }
 },
 "nbformat": 4,
 "nbformat_minor": 5
}
